{
 "cells": [
  {
   "cell_type": "markdown",
   "id": "53e03e92-5115-408c-8b05-96429d077354",
   "metadata": {},
   "source": [
    "La détection de cette silhouette constitue une première étape pour manipuler un avatar, en fournissant les points essentiels pour l'animation dans Unity ou Blender."
   ]
  },
  {
   "cell_type": "code",
   "execution_count": 2,
   "id": "c6adda07-2e94-4468-aa4e-700d29c10646",
   "metadata": {},
   "outputs": [
    {
     "name": "stderr",
     "output_type": "stream",
     "text": [
      "I0000 00:00:1726755637.523907 2804004 gl_context.cc:357] GL version: 2.1 (2.1 ATI-5.5.17), renderer: AMD Radeon Pro 5500M OpenGL Engine\n",
      "I0000 00:00:1726755637.536853 2804004 gl_context.cc:357] GL version: 2.1 (2.1 ATI-5.5.17), renderer: AMD Radeon Pro 5500M OpenGL Engine\n",
      "W0000 00:00:1726755637.555036 2813387 inference_feedback_manager.cc:114] Feedback manager requires a model with a single signature inference. Disabling support for feedback tensors.\n"
     ]
    },
    {
     "data": {
      "application/vnd.jupyter.widget-view+json": {
       "model_id": "c76bf76a6b5644d78fc660d7be60e055",
       "version_major": 2,
       "version_minor": 0
      },
      "text/plain": [
       "Image(value=b'', format='jpeg')"
      ]
     },
     "metadata": {},
     "output_type": "display_data"
    },
    {
     "name": "stderr",
     "output_type": "stream",
     "text": [
      "W0000 00:00:1726755637.577607 2813398 inference_feedback_manager.cc:114] Feedback manager requires a model with a single signature inference. Disabling support for feedback tensors.\n",
      "W0000 00:00:1726755637.667528 2813372 inference_feedback_manager.cc:114] Feedback manager requires a model with a single signature inference. Disabling support for feedback tensors.\n",
      "W0000 00:00:1726755637.691440 2813372 inference_feedback_manager.cc:114] Feedback manager requires a model with a single signature inference. Disabling support for feedback tensors.\n"
     ]
    }
   ],
   "source": [
    "import cv2\n",
    "import mediapipe as mp\n",
    "import numpy as np\n",
    "import ipywidgets as widgets\n",
    "from IPython.display import display\n",
    "\n",
    "mp_pose = mp.solutions.pose\n",
    "mp_hands = mp.solutions.hands\n",
    "pose = mp_pose.Pose(static_image_mode=False, min_detection_confidence=0.5, min_tracking_confidence=0.5)\n",
    "hands = mp_hands.Hands(static_image_mode=False, max_num_hands=2, min_detection_confidence=0.5, min_tracking_confidence=0.5)\n",
    "\n",
    "video_path = 'video.mov'\n",
    "cap = cv2.VideoCapture(video_path)\n",
    "\n",
    "image_widget = widgets.Image(format='jpeg')\n",
    "display(image_widget)\n",
    "\n",
    "def draw_pose_and_hands_landmarks(pose_landmarks, hand_landmarks_list, image_shape):\n",
    "    image_height, image_width = image_shape[:2]\n",
    "    canvas = np.ones((image_height, image_width, 3), dtype=np.uint8) * 255  # fond blanc\n",
    "\n",
    "    connections = [\n",
    "        (mp_pose.PoseLandmark.LEFT_SHOULDER, mp_pose.PoseLandmark.LEFT_ELBOW),\n",
    "        (mp_pose.PoseLandmark.LEFT_ELBOW, mp_pose.PoseLandmark.LEFT_WRIST),\n",
    "        (mp_pose.PoseLandmark.RIGHT_SHOULDER, mp_pose.PoseLandmark.RIGHT_ELBOW),\n",
    "        (mp_pose.PoseLandmark.RIGHT_ELBOW, mp_pose.PoseLandmark.RIGHT_WRIST),\n",
    "        (mp_pose.PoseLandmark.LEFT_SHOULDER, mp_pose.PoseLandmark.RIGHT_SHOULDER),  # Clavicule\n",
    "        (mp_pose.PoseLandmark.NOSE, mp_pose.PoseLandmark.LEFT_SHOULDER),\n",
    "        (mp_pose.PoseLandmark.NOSE, mp_pose.PoseLandmark.RIGHT_SHOULDER)\n",
    "    ]\n",
    "\n",
    "    points = {}\n",
    "    for landmark in mp_pose.PoseLandmark:\n",
    "        if landmark in mp_pose.PoseLandmark and pose_landmarks.landmark[landmark].visibility > 0.5:\n",
    "            x = int(pose_landmarks.landmark[landmark].x * image_width)\n",
    "            y = int(pose_landmarks.landmark[landmark].y * image_height)\n",
    "            points[landmark] = (x, y)\n",
    "            cv2.circle(canvas, (x, y), 5, (0, 0, 255), -1) \n",
    "\n",
    "    for connection in connections:\n",
    "        if connection[0] in points and connection[1] in points:\n",
    "            pt1 = points[connection[0]]\n",
    "            pt2 = points[connection[1]]\n",
    "            cv2.line(canvas, pt1, pt2, (0, 0, 255), 2) \n",
    "\n",
    "    if hand_landmarks_list:\n",
    "        for hand_landmarks in hand_landmarks_list:\n",
    "            for i, landmark in enumerate(hand_landmarks.landmark):\n",
    "                x = int(landmark.x * image_width)\n",
    "                y = int(landmark.y * image_height)\n",
    "                cv2.circle(canvas, (x, y), 5, (0, 255, 0), -1)  \n",
    "\n",
    "            fingers = [\n",
    "                (mp_hands.HandLandmark.THUMB_CMC, mp_hands.HandLandmark.THUMB_TIP),\n",
    "                (mp_hands.HandLandmark.INDEX_FINGER_MCP, mp_hands.HandLandmark.INDEX_FINGER_TIP),\n",
    "                (mp_hands.HandLandmark.MIDDLE_FINGER_MCP, mp_hands.HandLandmark.MIDDLE_FINGER_TIP),\n",
    "                (mp_hands.HandLandmark.RING_FINGER_MCP, mp_hands.HandLandmark.RING_FINGER_TIP),\n",
    "                (mp_hands.HandLandmark.PINKY_MCP, mp_hands.HandLandmark.PINKY_TIP)\n",
    "            ]\n",
    "            \n",
    "            for finger in fingers:\n",
    "                pt1 = (int(hand_landmarks.landmark[finger[0]].x * image_width), int(hand_landmarks.landmark[finger[0]].y * image_height))\n",
    "                pt2 = (int(hand_landmarks.landmark[finger[1]].x * image_width), int(hand_landmarks.landmark[finger[1]].y * image_height))\n",
    "                cv2.line(canvas, pt1, pt2, (0, 255, 0), 2)\n",
    "\n",
    "    return canvas\n",
    "\n",
    "while cap.isOpened():\n",
    "    ret, frame = cap.read()\n",
    "    if not ret:\n",
    "        break\n",
    "\n",
    "    frame_rgb = cv2.cvtColor(frame, cv2.COLOR_BGR2RGB)\n",
    "\n",
    "    results_pose = pose.process(frame_rgb)\n",
    "    results_hands = hands.process(frame_rgb)\n",
    "\n",
    "    if results_pose.pose_landmarks or results_hands.multi_hand_landmarks:\n",
    "        canvas = draw_pose_and_hands_landmarks(\n",
    "            results_pose.pose_landmarks, \n",
    "            results_hands.multi_hand_landmarks, \n",
    "            frame.shape\n",
    "        )\n",
    "\n",
    "        _, jpeg = cv2.imencode('.jpeg', canvas)\n",
    "        image_widget.value = jpeg.tobytes()\n",
    "\n",
    "    if cv2.waitKey(1) & 0xFF == ord('q'):\n",
    "        break\n",
    "\n",
    "cap.release()"
   ]
  },
  {
   "cell_type": "code",
   "execution_count": null,
   "id": "928688c1-f7ce-40e4-a344-74d95008d471",
   "metadata": {},
   "outputs": [],
   "source": []
  }
 ],
 "metadata": {
  "kernelspec": {
   "display_name": "Python 3 (ipykernel)",
   "language": "python",
   "name": "python3"
  },
  "language_info": {
   "codemirror_mode": {
    "name": "ipython",
    "version": 3
   },
   "file_extension": ".py",
   "mimetype": "text/x-python",
   "name": "python",
   "nbconvert_exporter": "python",
   "pygments_lexer": "ipython3",
   "version": "3.9.19"
  }
 },
 "nbformat": 4,
 "nbformat_minor": 5
}
